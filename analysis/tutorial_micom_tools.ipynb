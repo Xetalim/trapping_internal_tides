{
 "cells": [
  {
   "cell_type": "code",
   "execution_count": 1,
   "id": "29f33f71-61df-4470-88f3-addf8fb5883c",
   "metadata": {},
   "outputs": [],
   "source": [
    "import numpy as np\n",
    "import matplotlib.pyplot as plt\n",
    "import xarray as xr\n",
    "\n",
    "import micom_tools"
   ]
  },
  {
   "cell_type": "markdown",
   "id": "565941c4-0916-490a-a377-d12c9853b797",
   "metadata": {},
   "source": [
    "First create an object of the `micom_tools` class. We'll use the methods from this object to do our computation."
   ]
  },
  {
   "cell_type": "code",
   "execution_count": 2,
   "id": "4a39f9b4-070b-4c54-8399-29d5bf1ab7ef",
   "metadata": {},
   "outputs": [],
   "source": [
    "mtool = micom_tools.micom_tools()"
   ]
  },
  {
   "cell_type": "markdown",
   "id": "1371cb8f-1777-4e1b-aa03-5b78bdbc4a51",
   "metadata": {},
   "source": [
    "Navigate to the right directory."
   ]
  },
  {
   "cell_type": "code",
   "execution_count": 3,
   "id": "01c9620b-e82f-4d70-9338-172e1eb1d160",
   "metadata": {},
   "outputs": [],
   "source": [
    "working_dir = \"../run/\""
   ]
  },
  {
   "cell_type": "markdown",
   "id": "a6c7ca44-4743-47b7-9501-32653c0f43b4",
   "metadata": {},
   "source": [
    "To load output data, use the `read_output` method, which returns the data as an xarray.DataArray object, or as a NumPy array.\n",
    "\n",
    "If you put your cursor behind the opening bracking of `read_output(` and press `shift + tab`, you will see the docstring of the method, which contains some hints on how to use this function. You may also simply view `micom_tools.py` itself."
   ]
  },
  {
   "cell_type": "code",
   "execution_count": 4,
   "id": "fa7219f5-6c99-4e3c-86a0-c9435e06264b",
   "metadata": {},
   "outputs": [
    {
     "ename": "FileNotFoundError",
     "evalue": "[Errno 2] No such file or directory: '../run/average_00005'",
     "output_type": "error",
     "traceback": [
      "\u001b[0;31m---------------------------------------------------------------------------\u001b[0m",
      "\u001b[0;31mFileNotFoundError\u001b[0m                         Traceback (most recent call last)",
      "Cell \u001b[0;32mIn[4], line 1\u001b[0m\n\u001b[0;32m----> 1\u001b[0m average \u001b[38;5;241m=\u001b[39m \u001b[43mmtool\u001b[49m\u001b[38;5;241;43m.\u001b[39;49m\u001b[43mread_output\u001b[49m\u001b[43m(\u001b[49m\u001b[43mworking_dir\u001b[49m\u001b[38;5;241;43m+\u001b[39;49m\u001b[38;5;124;43m\"\u001b[39;49m\u001b[38;5;124;43maverage_00005\u001b[39;49m\u001b[38;5;124;43m\"\u001b[39;49m\u001b[43m,\u001b[49m\u001b[43m \u001b[49m\u001b[43mreturntype\u001b[49m\u001b[38;5;241;43m=\u001b[39;49m\u001b[38;5;124;43m'\u001b[39;49m\u001b[38;5;124;43mxarray\u001b[39;49m\u001b[38;5;124;43m'\u001b[39;49m\u001b[43m)\u001b[49m\n",
      "File \u001b[0;32m~/Documents/Documenten/Werk/TA_WGF/trapping_internal_tides/analysis/micom_tools.py:61\u001b[0m, in \u001b[0;36mmicom_tools.read_output\u001b[0;34m(self, path, returntype)\u001b[0m\n\u001b[1;32m     40\u001b[0m \u001b[38;5;28;01mdef\u001b[39;00m \u001b[38;5;21mread_output\u001b[39m(\u001b[38;5;28mself\u001b[39m, path, returntype\u001b[38;5;241m=\u001b[39m\u001b[38;5;124m'\u001b[39m\u001b[38;5;124mxarray\u001b[39m\u001b[38;5;124m'\u001b[39m):\n\u001b[1;32m     41\u001b[0m \u001b[38;5;250m    \u001b[39m\u001b[38;5;124;03m\"\"\"\u001b[39;00m\n\u001b[1;32m     42\u001b[0m \u001b[38;5;124;03m    Read binary output files from the MICOM model.\u001b[39;00m\n\u001b[1;32m     43\u001b[0m \u001b[38;5;124;03m    \u001b[39;00m\n\u001b[0;32m   (...)\u001b[0m\n\u001b[1;32m     59\u001b[0m \u001b[38;5;124;03m        \u001b[39;00m\n\u001b[1;32m     60\u001b[0m \u001b[38;5;124;03m    \"\"\"\u001b[39;00m\n\u001b[0;32m---> 61\u001b[0m     f \u001b[38;5;241m=\u001b[39m \u001b[43mio\u001b[49m\u001b[38;5;241;43m.\u001b[39;49m\u001b[43mFortranFile\u001b[49m\u001b[43m(\u001b[49m\u001b[43mpath\u001b[49m\u001b[43m,\u001b[49m\u001b[43m \u001b[49m\u001b[38;5;124;43m\"\u001b[39;49m\u001b[38;5;124;43mr\u001b[39;49m\u001b[38;5;124;43m\"\u001b[39;49m\u001b[43m)\u001b[49m\n\u001b[1;32m     62\u001b[0m     output \u001b[38;5;241m=\u001b[39m np\u001b[38;5;241m.\u001b[39mflip(f\u001b[38;5;241m.\u001b[39mread_reals(np\u001b[38;5;241m.\u001b[39mdtype(\u001b[38;5;124m'\u001b[39m\u001b[38;5;124m<f8\u001b[39m\u001b[38;5;124m'\u001b[39m))\u001b[38;5;241m.\u001b[39mreshape(\u001b[38;5;28mself\u001b[39m\u001b[38;5;241m.\u001b[39mk1,\u001b[38;5;28mself\u001b[39m\u001b[38;5;241m.\u001b[39mjdd,\u001b[38;5;28mself\u001b[39m\u001b[38;5;241m.\u001b[39midd), \u001b[38;5;241m0\u001b[39m)\n\u001b[1;32m     63\u001b[0m     output \u001b[38;5;241m=\u001b[39m np\u001b[38;5;241m.\u001b[39mflip(output, \u001b[38;5;241m2\u001b[39m)\n",
      "File \u001b[0;32m~/opt/envs/dyoc/lib/python3.11/site-packages/scipy/io/_fortran.py:123\u001b[0m, in \u001b[0;36mFortranFile.__init__\u001b[0;34m(self, filename, mode, header_dtype)\u001b[0m\n\u001b[1;32m    121\u001b[0m     \u001b[38;5;28mself\u001b[39m\u001b[38;5;241m.\u001b[39m_fp \u001b[38;5;241m=\u001b[39m filename\n\u001b[1;32m    122\u001b[0m \u001b[38;5;28;01melse\u001b[39;00m:\n\u001b[0;32m--> 123\u001b[0m     \u001b[38;5;28mself\u001b[39m\u001b[38;5;241m.\u001b[39m_fp \u001b[38;5;241m=\u001b[39m \u001b[38;5;28;43mopen\u001b[39;49m\u001b[43m(\u001b[49m\u001b[43mfilename\u001b[49m\u001b[43m,\u001b[49m\u001b[43m \u001b[49m\u001b[38;5;124;43m'\u001b[39;49m\u001b[38;5;132;43;01m%s\u001b[39;49;00m\u001b[38;5;124;43mb\u001b[39;49m\u001b[38;5;124;43m'\u001b[39;49m\u001b[43m \u001b[49m\u001b[38;5;241;43m%\u001b[39;49m\u001b[43m \u001b[49m\u001b[43mmode\u001b[49m\u001b[43m)\u001b[49m\n\u001b[1;32m    125\u001b[0m \u001b[38;5;28mself\u001b[39m\u001b[38;5;241m.\u001b[39m_header_dtype \u001b[38;5;241m=\u001b[39m header_dtype\n",
      "\u001b[0;31mFileNotFoundError\u001b[0m: [Errno 2] No such file or directory: '../run/average_00005'"
     ]
    }
   ],
   "source": [
    "average = mtool.read_output(working_dir+\"average_00005\", returntype='xarray')"
   ]
  },
  {
   "cell_type": "markdown",
   "id": "96a5d962-0e93-4daf-a902-5b485e724395",
   "metadata": {},
   "source": [
    "The `merge_along_time` tool takes a list of DataArrays and merges them along a time dimension. "
   ]
  },
  {
   "cell_type": "code",
   "execution_count": null,
   "id": "c8545c10-d34a-474d-bddd-0b3f361f7b12",
   "metadata": {},
   "outputs": [],
   "source": [
    "n = 16\n",
    "analysis_files = [working_dir+f\"analysis_000{i:02d}\" for i in range(1,n+1)]\n",
    "analysis_datasets = [mtool.read_output(f, returntype='xarray') for f in analysis_files]\n",
    "analyses = mtool.merge_along_time(analysis_datasets)"
   ]
  },
  {
   "cell_type": "markdown",
   "id": "505fc4dc-95e4-41ea-93c3-abfc48fb20c9",
   "metadata": {},
   "source": [
    "The `harmonic_analysis` method takes a `DataArray` of the merged analysis files (with time dimension) and a `DataArray` of the average output (no time dimension). It returns the amplitude, phase and residual. See section 10.6 of the lecture notes."
   ]
  },
  {
   "cell_type": "code",
   "execution_count": null,
   "id": "88518b69-56fd-4214-8792-02ad244d4898",
   "metadata": {},
   "outputs": [],
   "source": [
    "amplitude, phase, residual = mtool.harmonic_analysis(analyses, average, adjust_phase=True)"
   ]
  },
  {
   "cell_type": "markdown",
   "id": "92576b7b-97b1-4a5d-940f-ce234644e829",
   "metadata": {},
   "source": [
    "Create a mask to hide output outside of the domain."
   ]
  },
  {
   "cell_type": "code",
   "execution_count": null,
   "id": "50fecc5a-f555-49f3-9b03-e905f5399616",
   "metadata": {},
   "outputs": [],
   "source": [
    "mask = np.abs(average) > 1000\n",
    "ZZ, XX, YY = np.meshgrid(average.Z, average.X, average.Y)"
   ]
  },
  {
   "cell_type": "markdown",
   "id": "8ce74929-7fdb-4293-8667-72ca09d01cf4",
   "metadata": {},
   "source": [
    "Xarray allows you to easily plot the data:"
   ]
  },
  {
   "cell_type": "code",
   "execution_count": null,
   "id": "65169490-9bbe-4b78-8b8e-30287474344e",
   "metadata": {},
   "outputs": [],
   "source": [
    "amplitude.where(mask).sel(X=945, method='nearest').plot.contourf(levels=np.arange(0, 3.2, 0.2))"
   ]
  },
  {
   "cell_type": "code",
   "execution_count": null,
   "id": "b774a2a6-c03f-4a76-867d-ad06174ae942",
   "metadata": {},
   "outputs": [],
   "source": [
    "phase.where(mask).sel(X=945, method='nearest').plot.pcolormesh(levels=np.arange(-np.pi,np.pi, 0.2), \n",
    "                                                 cmap='twilight')"
   ]
  },
  {
   "cell_type": "code",
   "execution_count": null,
   "id": "597ef16c-3465-49d0-afa6-d8525a7c1c1b",
   "metadata": {},
   "outputs": [],
   "source": [
    "residual.where(mask).sel(X=945, method='nearest').plot.contourf(levels=16)"
   ]
  },
  {
   "cell_type": "code",
   "execution_count": null,
   "id": "2a5d0744",
   "metadata": {},
   "outputs": [],
   "source": []
  }
 ],
 "metadata": {
  "interpreter": {
   "hash": "6d21fa328975d4684fe1cc1db8d52fe66c40a21e7fe593b49a85cf7fbc890273"
  },
  "kernelspec": {
   "display_name": "Python 3 (ipykernel)",
   "language": "python",
   "name": "python3"
  },
  "language_info": {
   "codemirror_mode": {
    "name": "ipython",
    "version": 3
   },
   "file_extension": ".py",
   "mimetype": "text/x-python",
   "name": "python",
   "nbconvert_exporter": "python",
   "pygments_lexer": "ipython3",
   "version": "3.11.7"
  }
 },
 "nbformat": 4,
 "nbformat_minor": 5
}
